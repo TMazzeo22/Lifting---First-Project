{
 "cells": [
  {
   "cell_type": "markdown",
   "metadata": {
    "_uuid": "e6607d096271f7849d664f0eaaf6a7d90fff8db6"
   },
   "source": [
    "# POWERLIFTING!\n",
    "\n",
    "Hi All!\n",
    "\n",
    "This has been my first foray into an end to end Data Analysis project. I picked this dataset as I knew little to nothing about Powerlfting and would need to rely more on my analysis of the data than my outside knowledge. It also seemed liked an interesting topic I could learn more about. After breiefly looking at the different columns within the data I wanted to see if it would be possible to predict weather a person was predicted to win first place or not.\n",
    "\n",
    "## 1. The Basics\n",
    "     a. Import Libraries and Data\n",
    "     b. Combine Data Tables\n",
    "     c. Split Data\n",
    "## 3. Data Cleaning & Feature Engineering\n",
    "## 4. EDA\n",
    "## 5. Machine Learning Algorithms\n",
    "    a. Decision Tree\n",
    "    b. Random Forest\n",
    "    c. SVM\n",
    "    d. K-Nearest Neighbors\n",
    "## 6. Refinement"
   ]
  },
  {
   "cell_type": "markdown",
   "metadata": {
    "_uuid": "7ad0d54c2bc0847ed851dc99d5f2baf0abf5a2c8"
   },
   "source": [
    "# 1. Importing Libraries and Data\n",
    "\n",
    "As with any project we need to import the standard libraries. In this case our data came from 2 files. Typically if these were larger we would analyze them seprateley first. However, each was small enough that combining them before starting further analysis was simple enough and would not make our dataset too large to start."
   ]
  },
  {
   "cell_type": "code",
   "execution_count": 1,
   "metadata": {
    "_cell_guid": "b1076dfc-b9ad-4769-8c92-a6c4dae69d19",
    "_uuid": "8f2839f25d086af736a60e9eeb907d3b93b6e0e5"
   },
   "outputs": [
    {
     "name": "stdout",
     "output_type": "stream",
     "text": [
      "['.ipynb_checkpoints', 'Lifting Project.ipynb']\n"
     ]
    }
   ],
   "source": [
    "import numpy as np\n",
    "import pandas as pd\n",
    "import matplotlib.pyplot as plt\n",
    "import seaborn as sns\n",
    "%matplotlib inline\n",
    "\n",
    "import warnings \n",
    "warnings.filterwarnings('ignore')\n",
    "\n",
    "import os\n",
    "print(os.listdir())"
   ]
  },
  {
   "cell_type": "code",
   "execution_count": 2,
   "metadata": {
    "_cell_guid": "79c7e3d0-c299-4dcb-8224-4455121ee9b0",
    "_uuid": "d629ff2d2480ee46fbb7e2d37f6b5fab8052498a"
   },
   "outputs": [],
   "source": [
    "meet = pd.read_csv(\"../data/meets.csv\")\n",
    "power = pd.read_csv(\"../data/openpowerlifting.csv\")"
   ]
  },
  {
   "cell_type": "markdown",
   "metadata": {
    "_uuid": "a58496f396aab16e773ec879d3d63f8e9be4bdb1"
   },
   "source": [
    "**After importing our tables and turning them into Pandas Dataframes, we want to see the basic information on each table. The best option is to join the tables before moving on to further analysis if possible. Here, the \"MeetID\" column is a perfect candidate to join our table using pd.merge.**"
   ]
  },
  {
   "cell_type": "code",
   "execution_count": 3,
   "metadata": {
    "_uuid": "4f0e100bed06e38456b0cf71c1f0c44d2734b6fd"
   },
   "outputs": [],
   "source": [
    "strong = meet.merge(power,\n",
    "                  on = \"MeetID\", \n",
    "                   how = 'left')\n",
    "\n",
    "# This merges the two tables we have. This performs a \"Left Join - this keeps all information in the \"left\" table and includes any data from the \"Right\" table that matches on the criterea \"MeetID\"."
   ]
  },
  {
   "cell_type": "markdown",
   "metadata": {
    "_uuid": "d8d727ef32aedbfb8749faccea7603d6b4305d41"
   },
   "source": [
    "Before moving any further we will want to split our data into a train and test split in case we want to eventually do machine learning and test our algorithm.\n",
    "\n",
    "A key item to note here is to make sure that our train and test samples both have the same number of features so they can be accuratley trained and evaluated using a model."
   ]
  },
  {
   "cell_type": "code",
   "execution_count": 4,
   "metadata": {
    "_uuid": "f690adac290fb4579f685d763cab0b90cdbf70c0"
   },
   "outputs": [
    {
     "name": "stdout",
     "output_type": "stream",
     "text": [
      "The training data has 309131 rows.\n",
      "The test data has 77283 rows.\n",
      "Both have 24 features\n",
      "Both have 24 features\n"
     ]
    }
   ],
   "source": [
    "from sklearn.model_selection import train_test_split                                # To start we import the train_test_split functionality from sklearn model selection.\n",
    "def train_test_official(df):                                                        # We create a function that spllits our data into a train/test split using the standard 20%. This is purley random splitting of\n",
    "    train_set, test_set = train_test_split(df, test_size = .2)                      # our data for now. If after further investigation we learn we need to use a stratified sampling technique we can adjust this function.\n",
    "    return train_set, test_set\n",
    "train_set, test_set = train_test_official(strong)\n",
    "\n",
    "df = train_set\n",
    "\n",
    "print(\"The training data has {} rows.\".format(train_set.shape[0]))                  # This output shows how many rows the train and test split has. More importantly it confirms that we have the same number of features\n",
    "print(\"The test data has {} rows.\".format(test_set.shape[0]))                       # in the train and test data which will be important for some of our Machine Learning Algorithms in the future.\n",
    "print(\"Both have {} features\" .format(train_set.shape[1]))\n",
    "print(\"Both have {} features\" .format(test_set.shape[1]))\n",
    "# Very convoluted but helps reinfroce what gets returned from a function and what does not."
   ]
  },
  {
   "cell_type": "markdown",
   "metadata": {
    "_uuid": "ed18359626de2d922a047af681239dfdfd19a2ff"
   },
   "source": [
    "# 3. Data Cleaning & Featurization.\n",
    "\n",
    "Since \"Place\" is our target variable, we wll start by cleaning up this column before moving on to the rest of the data."
   ]
  },
  {
   "cell_type": "code",
   "execution_count": 5,
   "metadata": {
    "_uuid": "e925d25f1448d1bee46eed2f8bb0df8d3ef071ce"
   },
   "outputs": [
    {
     "name": "stdout",
     "output_type": "stream",
     "text": [
      "count     308267\n",
      "unique        81\n",
      "top            1\n",
      "freq      155649\n",
      "Name: Place, dtype: object\n",
      "\n",
      "\n",
      "There are a few missing values...864\n"
     ]
    },
    {
     "data": {
      "text/plain": [
       "DQ    18456\n",
       "Name: Place, dtype: int64"
      ]
     },
     "execution_count": 5,
     "metadata": {},
     "output_type": "execute_result"
    }
   ],
   "source": [
    "print(df['Place'].describe())                                                             # Gives us the basic summary statistics of this column.\n",
    "print(\"\\n\")\n",
    "print(\"There are a few missing values...\" + str(df['Place'].isnull().sum()))              # We use the isnull and sum function in order to see all the missing values in this column.\n",
    "df['Place'].value_counts().iloc[3:4]                                                      # After organizing the data by using \"Value_counts\" we can locate the index where the sum of the labels for \"DQ\" is listed."
   ]
  },
  {
   "cell_type": "markdown",
   "metadata": {
    "_uuid": "c459bdb284403fb86c65a4704f0ff58aaf0b1076"
   },
   "source": [
    "Looking at our data it appears not all values are numeric! There are some strings that will cause errors when we try to plot the data. And this is only from 1 variable!\n",
    "\n",
    "In addition, looking at the data shows we have 2 problems. First, we have the \"DQ\" value which will not work with anything we will be doing. We can convert this to another value or replace with Naan. Second, our dataset is currently a classification problem between 81 different positions! While possible, this will make it difficult for our algorithm to pinpoint something particularyly helpful for us. We will need to review this more thoroughly.\n",
    "\n",
    "To alleviate this we are going to turn this into a binary clasasification problem and only focus on predicting 1st place (2nd place is just the first loser). This helps solve both of these problems. We can treat the \"DQ\" as any other \"Not First\" position."
   ]
  },
  {
   "cell_type": "code",
   "execution_count": 33,
   "metadata": {
    "_uuid": "0b1899c9e6d55666977a22eec795f423310f1142"
   },
   "outputs": [],
   "source": [
    "def convert_place(x):\n",
    "    x['Place'] = x['Place'] == \"1\"    # Converts any value in the column that is = 1 (First Place) into the boolean \"True\", anything else (including strings or other numbers) to \"False\"\n",
    "    x['Place'] = x['Place'].astype(int)"
   ]
  },
  {
   "cell_type": "code",
   "execution_count": 7,
   "metadata": {
    "_uuid": "af5d63b3d6916f61e198f0674613ed4ecebb70b9"
   },
   "outputs": [
    {
     "data": {
      "text/plain": [
       "1     155649\n",
       "2      45861\n",
       "3      24008\n",
       "DQ     18456\n",
       "4      15244\n",
       "Name: Place, dtype: int64"
      ]
     },
     "execution_count": 7,
     "metadata": {},
     "output_type": "execute_result"
    }
   ],
   "source": [
    "df[\"Place\"].value_counts().head(5)"
   ]
  },
  {
   "cell_type": "code",
   "execution_count": 34,
   "metadata": {
    "_uuid": "3c91a472ae0a8d687db9592b53e04c0885d779e0"
   },
   "outputs": [
    {
     "ename": "TypeError",
     "evalue": "invalid type comparison",
     "output_type": "error",
     "traceback": [
      "\u001b[1;31m---------------------------------------------------------------------------\u001b[0m",
      "\u001b[1;31mTypeError\u001b[0m                                 Traceback (most recent call last)",
      "\u001b[1;32m<ipython-input-34-469cecfbcfe0>\u001b[0m in \u001b[0;36m<module>\u001b[1;34m()\u001b[0m\n\u001b[1;32m----> 1\u001b[1;33m \u001b[0mconvert_place\u001b[0m\u001b[1;33m(\u001b[0m\u001b[0mdf\u001b[0m\u001b[1;33m)\u001b[0m\u001b[1;33m\u001b[0m\u001b[0m\n\u001b[0m\u001b[0;32m      2\u001b[0m \u001b[0mdf\u001b[0m\u001b[1;33m[\u001b[0m\u001b[1;34m\"Place\"\u001b[0m\u001b[1;33m]\u001b[0m\u001b[1;33m.\u001b[0m\u001b[0mvalue_counts\u001b[0m\u001b[1;33m(\u001b[0m\u001b[1;33m)\u001b[0m\u001b[1;33m.\u001b[0m\u001b[0mhead\u001b[0m\u001b[1;33m(\u001b[0m\u001b[1;36m5\u001b[0m\u001b[1;33m)\u001b[0m\u001b[1;33m\u001b[0m\u001b[0m\n",
      "\u001b[1;32m<ipython-input-33-f3a4cd7bec9f>\u001b[0m in \u001b[0;36mconvert_place\u001b[1;34m(x)\u001b[0m\n\u001b[0;32m      1\u001b[0m \u001b[1;32mdef\u001b[0m \u001b[0mconvert_place\u001b[0m\u001b[1;33m(\u001b[0m\u001b[0mx\u001b[0m\u001b[1;33m)\u001b[0m\u001b[1;33m:\u001b[0m\u001b[1;33m\u001b[0m\u001b[0m\n\u001b[1;32m----> 2\u001b[1;33m     \u001b[0mx\u001b[0m\u001b[1;33m[\u001b[0m\u001b[1;34m'Place'\u001b[0m\u001b[1;33m]\u001b[0m \u001b[1;33m=\u001b[0m \u001b[0mx\u001b[0m\u001b[1;33m[\u001b[0m\u001b[1;34m'Place'\u001b[0m\u001b[1;33m]\u001b[0m \u001b[1;33m==\u001b[0m \u001b[1;34m\"1\"\u001b[0m    \u001b[1;31m# Converts any value in the column that is = 1 (First Place) into the boolean \"True\", anything else (including strings or other numbers) to \"False\"\u001b[0m\u001b[1;33m\u001b[0m\u001b[0m\n\u001b[0m\u001b[0;32m      3\u001b[0m     \u001b[0mx\u001b[0m\u001b[1;33m[\u001b[0m\u001b[1;34m'Place'\u001b[0m\u001b[1;33m]\u001b[0m \u001b[1;33m=\u001b[0m \u001b[0mx\u001b[0m\u001b[1;33m[\u001b[0m\u001b[1;34m'Place'\u001b[0m\u001b[1;33m]\u001b[0m\u001b[1;33m.\u001b[0m\u001b[0mastype\u001b[0m\u001b[1;33m(\u001b[0m\u001b[0mint\u001b[0m\u001b[1;33m)\u001b[0m\u001b[1;33m\u001b[0m\u001b[0m\n",
      "\u001b[1;32mC:\\ProgramData\\Anaconda3\\lib\\site-packages\\pandas\\core\\ops.py\u001b[0m in \u001b[0;36mwrapper\u001b[1;34m(self, other, axis)\u001b[0m\n\u001b[0;32m    877\u001b[0m \u001b[1;33m\u001b[0m\u001b[0m\n\u001b[0;32m    878\u001b[0m             \u001b[1;32mwith\u001b[0m \u001b[0mnp\u001b[0m\u001b[1;33m.\u001b[0m\u001b[0merrstate\u001b[0m\u001b[1;33m(\u001b[0m\u001b[0mall\u001b[0m\u001b[1;33m=\u001b[0m\u001b[1;34m'ignore'\u001b[0m\u001b[1;33m)\u001b[0m\u001b[1;33m:\u001b[0m\u001b[1;33m\u001b[0m\u001b[0m\n\u001b[1;32m--> 879\u001b[1;33m                 \u001b[0mres\u001b[0m \u001b[1;33m=\u001b[0m \u001b[0mna_op\u001b[0m\u001b[1;33m(\u001b[0m\u001b[0mvalues\u001b[0m\u001b[1;33m,\u001b[0m \u001b[0mother\u001b[0m\u001b[1;33m)\u001b[0m\u001b[1;33m\u001b[0m\u001b[0m\n\u001b[0m\u001b[0;32m    880\u001b[0m             \u001b[1;32mif\u001b[0m \u001b[0mis_scalar\u001b[0m\u001b[1;33m(\u001b[0m\u001b[0mres\u001b[0m\u001b[1;33m)\u001b[0m\u001b[1;33m:\u001b[0m\u001b[1;33m\u001b[0m\u001b[0m\n\u001b[0;32m    881\u001b[0m                 raise TypeError('Could not compare {typ} type with Series'\n",
      "\u001b[1;32mC:\\ProgramData\\Anaconda3\\lib\\site-packages\\pandas\\core\\ops.py\u001b[0m in \u001b[0;36mna_op\u001b[1;34m(x, y)\u001b[0m\n\u001b[0;32m    816\u001b[0m                     \u001b[0mresult\u001b[0m \u001b[1;33m=\u001b[0m \u001b[0mgetattr\u001b[0m\u001b[1;33m(\u001b[0m\u001b[0mx\u001b[0m\u001b[1;33m,\u001b[0m \u001b[0mname\u001b[0m\u001b[1;33m)\u001b[0m\u001b[1;33m(\u001b[0m\u001b[0my\u001b[0m\u001b[1;33m)\u001b[0m\u001b[1;33m\u001b[0m\u001b[0m\n\u001b[0;32m    817\u001b[0m                 \u001b[1;32mif\u001b[0m \u001b[0mresult\u001b[0m \u001b[1;32mis\u001b[0m \u001b[0mNotImplemented\u001b[0m\u001b[1;33m:\u001b[0m\u001b[1;33m\u001b[0m\u001b[0m\n\u001b[1;32m--> 818\u001b[1;33m                     \u001b[1;32mraise\u001b[0m \u001b[0mTypeError\u001b[0m\u001b[1;33m(\u001b[0m\u001b[1;34m\"invalid type comparison\"\u001b[0m\u001b[1;33m)\u001b[0m\u001b[1;33m\u001b[0m\u001b[0m\n\u001b[0m\u001b[0;32m    819\u001b[0m             \u001b[1;32mexcept\u001b[0m \u001b[0mAttributeError\u001b[0m\u001b[1;33m:\u001b[0m\u001b[1;33m\u001b[0m\u001b[0m\n\u001b[0;32m    820\u001b[0m                 \u001b[0mresult\u001b[0m \u001b[1;33m=\u001b[0m \u001b[0mop\u001b[0m\u001b[1;33m(\u001b[0m\u001b[0mx\u001b[0m\u001b[1;33m,\u001b[0m \u001b[0my\u001b[0m\u001b[1;33m)\u001b[0m\u001b[1;33m\u001b[0m\u001b[0m\n",
      "\u001b[1;31mTypeError\u001b[0m: invalid type comparison"
     ]
    }
   ],
   "source": [
    "convert_place(df)\n",
    "df[\"Place\"].value_counts().head(5)"
   ]
  },
  {
   "cell_type": "markdown",
   "metadata": {
    "_uuid": "cf44995e1e18339d785f2da14e2832bbcc0b595b"
   },
   "source": [
    "Lets look at a complete heatmap of our data for missing values. We will do so with a table of percent missing items and a heatmap showing this."
   ]
  },
  {
   "cell_type": "code",
   "execution_count": 9,
   "metadata": {
    "_uuid": "805b2b81599ff664c9641796c012f8fcebcb8260"
   },
   "outputs": [
    {
     "data": {
      "text/plain": [
       "<matplotlib.axes._subplots.AxesSubplot at 0x24cbc0510f0>"
      ]
     },
     "execution_count": 9,
     "metadata": {},
     "output_type": "execute_result"
    },
    {
     "data": {
      "image/png": "[encoded data removed]",
      "text/plain": [
       "<matplotlib.figure.Figure at 0x24cbc039f60>"
      ]
     },
     "metadata": {},
     "output_type": "display_data"
    }
   ],
   "source": [
    "plt.figure(figsize=(12,8))                                                                 # First we initialize a figure with the right size for our plot.\n",
    "sns.heatmap(data = df.isnull(),cbar=False,yticklabels=False)            # Then plot our chart. We remove the colorbar and the y axis as they are not needed to see where we have missing values."
   ]
  },
  {
   "cell_type": "code",
   "execution_count": 10,
   "metadata": {
    "_uuid": "e2bede56ff575ea63505797c7d0d2a6c272d2087"
   },
   "outputs": [],
   "source": [
    "def missing_val(df):\n",
    "    Total = df.isnull().sum()\n",
    "    Percent = (Total / len(df))*100\n",
    "    Table = pd.concat([Total, Percent], axis = 1)\n",
    "    Table = Table.rename(columns = {0: \"Total Missing\", 1: \"Percent Missing\"})\n",
    "    print(Table)"
   ]
  },
  {
   "cell_type": "code",
   "execution_count": 11,
   "metadata": {
    "_uuid": "ecd53a097be4bc18af412010d5ee776c112a68fc"
   },
   "outputs": [
    {
     "name": "stdout",
     "output_type": "stream",
     "text": [
      "                Total Missing  Percent Missing\n",
      "MeetID                      0         0.000000\n",
      "MeetPath                    0         0.000000\n",
      "Federation                  0         0.000000\n",
      "Date                        0         0.000000\n",
      "MeetCountry                 0         0.000000\n",
      "MeetState               57671        18.655845\n",
      "MeetTown                75171        24.316875\n",
      "MeetName                    0         0.000000\n",
      "Name                        0         0.000000\n",
      "Sex                         0         0.000000\n",
      "Equipment                   0         0.000000\n",
      "Age                    191505        61.949465\n",
      "Division                12671         4.098910\n",
      "BodyweightKg             1908         0.617214\n",
      "WeightClassKg            3032         0.980814\n",
      "Squat4Kg               308139        99.679100\n",
      "BestSquatKg             70667        22.859888\n",
      "Bench4Kg               307555        99.490184\n",
      "BestBenchKg             24052         7.780520\n",
      "Deadlift4Kg            306881        99.272153\n",
      "BestDeadliftKg          54888        17.755579\n",
      "TotalKg                 18608         6.019455\n",
      "Place                       0         0.000000\n",
      "Wilks                   19448         6.291184\n"
     ]
    }
   ],
   "source": [
    "missing_val(df)"
   ]
  },
  {
   "cell_type": "markdown",
   "metadata": {
    "_uuid": "df782611a33ec6f1add68cf5b432509bba2c40d8"
   },
   "source": [
    "We will need to look at each of these columns in order to determine how to deal with the missing values. All the 4KG columns will be deleted as they have barely any rows of viable data. While going through this we should determine if new columns can be created in order to supplement whatever missing data we will have."
   ]
  },
  {
   "cell_type": "code",
   "execution_count": null,
   "metadata": {},
   "outputs": [],
   "source": [
    "train_set.drop([\"Squat4Kg\",\"Bench4Kg\", \"Deadlift4Kg\"], axis = 1, inplace = True)\n",
    "test_set.drop([\"Squat4Kg\",\"Bench4Kg\", \"Deadlift4Kg\"], axis = 1, inplace = True)\n",
    "df.drop([\"Squat4Kg\",\"Bench4Kg\", \"Deadlift4Kg\"], axis = 1, inplace = True)"
   ]
  },
  {
   "cell_type": "code",
   "execution_count": 15,
   "metadata": {
    "_uuid": "dfc0c94936cc334973db5332ba841cbaa3cbfcde"
   },
   "outputs": [
    {
     "data": {
      "text/plain": [
       "<matplotlib.axes._subplots.AxesSubplot at 0x24cbb8afa58>"
      ]
     },
     "execution_count": 15,
     "metadata": {},
     "output_type": "execute_result"
    },
    {
     "data": {
      "image/png": "[encoded data removed]",
      "text/plain": [
       "<matplotlib.figure.Figure at 0x24cbb8af278>"
      ]
     },
     "metadata": {},
     "output_type": "display_data"
    }
   ],
   "source": [
    "plt.figure(figsize=(12,8))                                                                 # First we initialize a figure with the right size for our plot.\n",
    "sns.heatmap(data = df.isnull(),cbar=False,yticklabels=False,)            # Then plot our chart. We remove the colorbar and the y axis as they are not needed to see where we have missing values."
   ]
  },
  {
   "cell_type": "code",
   "execution_count": null,
   "metadata": {
    "_uuid": "d61f18761cb50dd40b7aff48e322c0a7e392bce4",
    "collapsed": true
   },
   "outputs": [],
   "source": []
  },
  {
   "cell_type": "code",
   "execution_count": null,
   "metadata": {
    "_uuid": "acc8de7173110e9b6f81f3edb6b84f2de09a4e9e",
    "collapsed": true
   },
   "outputs": [],
   "source": [
    "df.sum()"
   ]
  },
  {
   "cell_type": "code",
   "execution_count": null,
   "metadata": {
    "_uuid": "c06b21952a28d6779e870e2ece605bb8f0d31921",
    "collapsed": true
   },
   "outputs": [],
   "source": []
  },
  {
   "cell_type": "code",
   "execution_count": null,
   "metadata": {
    "_uuid": "e3bfe337b6652c58e871ac01b9b2fa02929c35bf"
   },
   "outputs": [],
   "source": []
  },
  {
   "cell_type": "code",
   "execution_count": null,
   "metadata": {
    "_uuid": "fb40a494169b5199c644346cdcfe0aaa8370c975",
    "collapsed": true
   },
   "outputs": [],
   "source": []
  },
  {
   "cell_type": "code",
   "execution_count": null,
   "metadata": {
    "_uuid": "202fc24a0e268f0cea9a058d24eeaeedd6ec5381",
    "collapsed": true
   },
   "outputs": [],
   "source": [
    "def correlation(df):\n",
    "    cor = df.corr()\n",
    "    plt.subplots(figsize=(10,5))\n",
    "    sns.heatmap(data = cor,\n",
    "               annot = True,\n",
    "               center = 0,\n",
    "               cmap=\"coolwarm\")\n",
    "    \n",
    "correlation(df)"
   ]
  },
  {
   "cell_type": "code",
   "execution_count": null,
   "metadata": {
    "_uuid": "96c39d8b16da98e2c270c899ace033ce6baa272d",
    "collapsed": true
   },
   "outputs": [],
   "source": [
    "strong.head(2)"
   ]
  },
  {
   "cell_type": "code",
   "execution_count": null,
   "metadata": {
    "_uuid": "d35262cc0faadfa88adfe63098d64b141f61a876",
    "collapsed": true
   },
   "outputs": [],
   "source": [
    "x = strong[\"MeetCountry\"].value_counts().index.tolist()[:11]\n",
    "y = []\n",
    "for item in x:\n",
    "    y.append(strong[\"MeetCountry\"].value_counts()[item])\n",
    "\n",
    "fig, ax = plt.subplots()\n",
    "fig.set_size_inches(11.7, 8.27)\n",
    "sns.barplot(x = x,\n",
    "            y = y, data = power)\n",
    "plt.xticks(rotation=90)"
   ]
  },
  {
   "cell_type": "markdown",
   "metadata": {
    "_uuid": "4352f48079cc4c430971d51dfc988aef0d809b30",
    "collapsed": true
   },
   "source": [
    "The United States is by far the largest for wieghtlifting competitions. Lets see where in the U.S. these are."
   ]
  },
  {
   "cell_type": "code",
   "execution_count": null,
   "metadata": {
    "_uuid": "57de260cd0fc75fefab8c2b4505c57b207064a4d",
    "collapsed": true
   },
   "outputs": [],
   "source": [
    "fig = plt.figure()\n",
    "\n",
    "states = strong[strong[\"MeetCountry\"] == \"USA\"]\n",
    "\n",
    "x = states[\"MeetTown\"].value_counts().index.values[:11]\n",
    "y = states[\"MeetTown\"].value_counts().values[:11]\n",
    "\n",
    "plt.figure(figsize = (10,6))\n",
    "sns.barplot(x,y)"
   ]
  },
  {
   "cell_type": "markdown",
   "metadata": {
    "_uuid": "db76fbb54929433e9de59d9b86a36cd7b13efd61",
    "collapsed": true
   },
   "source": [
    "Vegas Baby!"
   ]
  },
  {
   "cell_type": "markdown",
   "metadata": {
    "_uuid": "0ce6d49cf070957a123f0c46adb0d759da2dd65e",
    "collapsed": true
   },
   "source": [
    "Next let's breakdown who is competing, their gender, weight, and equipment."
   ]
  },
  {
   "cell_type": "code",
   "execution_count": null,
   "metadata": {
    "_uuid": "30b3450d3f364c5ac86075d19f06f87148c385bf",
    "collapsed": true
   },
   "outputs": [],
   "source": [
    "f, axs = plt.subplots(2,1,figsize=(12,8))\n",
    "\n",
    "plt.subplot (2,1,1)\n",
    "sns.countplot(strong['Equipment'], palette = 'Set1', hue = strong['Sex'])\n",
    "plt.subplot (2,1,2)\n",
    "sns.countplot(strong['Sex'], palette = 'Set1')"
   ]
  },
  {
   "cell_type": "markdown",
   "metadata": {
    "_uuid": "c9d9e346ec78c42756f9144006f8080fdfb1e68c",
    "collapsed": true
   },
   "source": [
    "Raw powerlifting means lifting without any added equipment.\n",
    "Single-ply and Multi-ply are a type of equipment worn meant to aid a lifter. More ply = More Assistance.\n",
    "Wraps and Straps are typically worn on the hands or around the knees to enhance grip and saftey.\n",
    "\n",
    "More than 2 times the number of men compete than woman."
   ]
  },
  {
   "cell_type": "code",
   "execution_count": null,
   "metadata": {
    "_uuid": "de9f300cc92f09e3766e330ca87f767ad8595d25",
    "collapsed": true
   },
   "outputs": [],
   "source": [
    "#f, axe = plt.subplots(1,2,figsize = (12,8))\n",
    "sns.jointplot(x =strong['Age'].where(strong['Sex'] == \"M\"),\n",
    "             y = strong['BodyweightKg'],\n",
    "             data = strong, color = \"g\")\n",
    "\n",
    "sns.jointplot(x =strong['Age'].where(strong['Sex'] == \"F\"),\n",
    "             y = strong['BodyweightKg'],\n",
    "             data = strong)"
   ]
  },
  {
   "cell_type": "code",
   "execution_count": null,
   "metadata": {
    "_uuid": "364124a367b4f160de9d4b6865d369092b51fac6",
    "collapsed": true
   },
   "outputs": [],
   "source": [
    "sns.lmplot(x =strong['Age'],\n",
    "             y = strong['BodyweightKg'],\n",
    "             data = strong)"
   ]
  },
  {
   "cell_type": "code",
   "execution_count": null,
   "metadata": {
    "_uuid": "d2ee15e124202f67b748dedf1d98228d8983a8da",
    "collapsed": true
   },
   "outputs": [],
   "source": []
  },
  {
   "cell_type": "code",
   "execution_count": null,
   "metadata": {
    "_uuid": "ab8d6dd8314070c11db856c7a3300e58fda96154"
   },
   "outputs": [],
   "source": []
  },
  {
   "cell_type": "markdown",
   "metadata": {
    "_uuid": "b9332cc0717f452817483264781a48a5d92d9d87",
    "collapsed": true
   },
   "source": [
    "## 5. Machine Learning Algorithms\n",
    "    a. Decision Tree\n",
    "    b. Random Forest\n",
    "    c. SVM\n",
    "    d. K-Nearest Neighbors\n",
    "\n",
    "In addition we are going to be looking at Recall for our error metric because we want to bet money on our winner. Thus, Fall Positives hurt us much more than False Negatives do.\n",
    "\n",
    "In additon we are going to drop some rows with lengthy text data for the first round of algorithms we run. As we come back to this data we may want to alter this."
   ]
  },
  {
   "cell_type": "markdown",
   "metadata": {
    "_uuid": "0efff8966dd0f01d9af39622521511ae2620a57e",
    "collapsed": true
   },
   "source": [
    "### a. Decision Tree\n",
    "While I do not expect the basic decision tree to produce the most accurate results. I do see it as an opportunity to arrive at a basline classifier. From here we can than have a strong basis with which to compare our other models."
   ]
  },
  {
   "cell_type": "code",
   "execution_count": 23,
   "metadata": {},
   "outputs": [],
   "source": [
    "from sklearn import tree\n",
    "from sklearn.metrics import recall_score"
   ]
  },
  {
   "cell_type": "code",
   "execution_count": null,
   "metadata": {},
   "outputs": [],
   "source": [
    "X = df.drop(['Place','MeetPath', 'MeetName','MeetID', 'Federation', 'Date' , 'MeetCountry' , 'MeetState' , 'MeetTown'], axis = 1)\n",
    "y = df['Place']\n",
    "\n",
    "def decision_tree(X,y):\n",
    "    X_train, X_test, y_train, y_test = train_test_split(X, y, test_size=0.2, random_state=42)\n",
    "    dec = tree.DecisionTreeClassifier()\n",
    "    dec = dec.fit(X_train,y_train)\n",
    "    predictions = dec.predict(X_test)\n",
    "    print(recall_score(y_test,predictions))\n",
    "decision_tree(X,y)"
   ]
  },
  {
   "cell_type": "code",
   "execution_count": null,
   "metadata": {},
   "outputs": [],
   "source": []
  }
 ],
 "metadata": {
  "kernelspec": {
   "display_name": "Python 3",
   "language": "python",
   "name": "python3"
  },
  "language_info": {
   "codemirror_mode": {
    "name": "ipython",
    "version": 3
   },
   "file_extension": ".py",
   "mimetype": "text/x-python",
   "name": "python",
   "nbconvert_exporter": "python",
   "pygments_lexer": "ipython3",
   "version": "3.6.4"
  }
 },
 "nbformat": 4,
 "nbformat_minor": 1
}
